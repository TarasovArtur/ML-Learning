{
  "nbformat": 4,
  "nbformat_minor": 0,
  "metadata": {
    "colab": {
      "provenance": []
    },
    "kernelspec": {
      "name": "python3",
      "display_name": "Python 3"
    },
    "language_info": {
      "name": "python"
    }
  },
  "cells": [
    {
      "cell_type": "code",
      "execution_count": 2,
      "metadata": {
        "colab": {
          "base_uri": "https://localhost:8080/"
        },
        "id": "0HjIgu7EyFhh",
        "outputId": "ba884fab-cf01-487c-b994-ce9256204e58"
      },
      "outputs": [
        {
          "output_type": "stream",
          "name": "stdout",
          "text": [
            "Привет, мир машинного обучения!\n"
          ]
        }
      ],
      "source": [
        "print(\"Привет, мир машинного обучения!\")\n"
      ]
    }
  ]
}